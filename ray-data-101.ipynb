{
 "cells": [
  {
   "cell_type": "code",
   "execution_count": 1,
   "id": "8a2984f9-dae3-4d49-a51e-78667f15b8ca",
   "metadata": {
    "tags": []
   },
   "outputs": [],
   "source": [
    "# Import pieces from codeflare-sdk\n",
    "from codeflare_sdk import Cluster, ClusterConfiguration, TokenAuthentication\n",
    "import os\n",
    "import sys"
   ]
  },
  {
   "cell_type": "code",
   "execution_count": 2,
   "id": "b7f27a6c-8c0e-4115-9ee3-35443054f1f4",
   "metadata": {
    "tags": []
   },
   "outputs": [
    {
     "name": "stdout",
     "output_type": "stream",
     "text": [
      "Insecure request warnings have been disabled\n"
     ]
    },
    {
     "data": {
      "text/plain": [
       "'Logged into https://api.sno.sandbox1990.opentlc.com:6443'"
      ]
     },
     "execution_count": 2,
     "metadata": {},
     "output_type": "execute_result"
    }
   ],
   "source": [
    "# Authenticate the CodeFlare SDK\n",
    "# On OpenShift, you can retrieve the token by running `oc whoami -t`,\n",
    "# and the server with `oc cluster-info`.\n",
    "auth = TokenAuthentication(\n",
    "    token = '',\n",
    "    server = 'https://api.sno.sandbox1990.opentlc.com:6443',\n",
    "    skip_tls=True\n",
    ")\n",
    "auth.login()"
   ]
  },
  {
   "cell_type": "code",
   "execution_count": 7,
   "id": "6577d56a-8f13-4014-93b7-03ebc895d964",
   "metadata": {
    "tags": []
   },
   "outputs": [
    {
     "name": "stdout",
     "output_type": "stream",
     "text": [
      "Yaml resources loaded for ray\n"
     ]
    }
   ],
   "source": [
    "cluster = Cluster(ClusterConfiguration(\n",
    "    name='ray',\n",
    "    namespace='llama-serving', # Update to your namespace\n",
    "    num_workers=2,\n",
    "    head_cpus=1,\n",
    "    head_memory=2,\n",
    "    min_cpus=1,\n",
    "    max_cpus=1,\n",
    "    min_memory=2,\n",
    "    max_memory=2,\n",
    "    num_gpus=0,\n",
    "    image=\"quay.io/project-codeflare/ray:latest-py39-cu118\",\n",
    "    write_to_file=False, # When enabled Ray Cluster yaml files are written to /HOME/.codeflare/resources \n",
    "    # local_queue=\"local-queue-name\" # Specify the local queue manually\n",
    "))"
   ]
  },
  {
   "cell_type": "code",
   "execution_count": 8,
   "id": "ac0b6e42-fa1d-4f7d-8864-c10b2a364bb6",
   "metadata": {
    "tags": []
   },
   "outputs": [],
   "source": [
    "# Bring up the cluster\n",
    "cluster.up()"
   ]
  },
  {
   "cell_type": "code",
   "execution_count": 9,
   "id": "7221dedb-7ff3-4c76-9e6e-1bc677db20b4",
   "metadata": {
    "tags": []
   },
   "outputs": [
    {
     "data": {
      "text/html": [
       "<pre style=\"white-space:pre;overflow-x:auto;line-height:normal;font-family:Menlo,'DejaVu Sans Mono',consolas,'Courier New',monospace\"><span style=\"font-style: italic\">                   </span><span style=\"font-weight: bold; font-style: italic\"> 🚀 CodeFlare Cluster Status 🚀</span><span style=\"font-style: italic\">                    </span>\n",
       "<span style=\"font-weight: bold\">                                                                      </span>\n",
       " ╭──────────────────────────────────────────────────────────────────╮ \n",
       " │   <span style=\"color: #c0c0c0; text-decoration-color: #c0c0c0; background-color: #008000; font-weight: bold\">Name</span>                                                           │ \n",
       " │   <span style=\"font-weight: bold; text-decoration: underline\">ray</span>                                              Inactive ❌   │ \n",
       " │                                                                  │ \n",
       " │   <span style=\"font-weight: bold\">URI:</span> ray://ray-head-svc.llama-serving.svc:10001                │ \n",
       " │                                                                  │ \n",
       " │   <a href=\"https://ray-dashboard-ray-llama-serving.apps.sno.sandbox1990.opentlc.com\" target=\"_blank\"><span style=\"color: #000080; text-decoration-color: #000080; text-decoration: underline\">Dashboard🔗</span></a>                                                    │ \n",
       " │                                                                  │ \n",
       " ╰──────────────────────────────────────────────────────────────────╯ \n",
       "</pre>\n"
      ],
      "text/plain": [
       "\u001b[3m                   \u001b[0m\u001b[1;3m 🚀 CodeFlare Cluster Status 🚀\u001b[0m\u001b[3m                    \u001b[0m\n",
       "\u001b[1m \u001b[0m\u001b[1m                                                                    \u001b[0m\u001b[1m \u001b[0m\n",
       " ╭──────────────────────────────────────────────────────────────────╮ \n",
       " │   \u001b[1;37;42mName\u001b[0m                                                           │ \n",
       " │   \u001b[1;4mray\u001b[0m                                              Inactive ❌   │ \n",
       " │                                                                  │ \n",
       " │   \u001b[1mURI:\u001b[0m ray://ray-head-svc.llama-serving.svc:10001                │ \n",
       " │                                                                  │ \n",
       " │   \u001b]8;id=343260;https://ray-dashboard-ray-llama-serving.apps.sno.sandbox1990.opentlc.com\u001b\\\u001b[4;34mDashboard🔗\u001b[0m\u001b]8;;\u001b\\                                                    │ \n",
       " │                                                                  │ \n",
       " ╰──────────────────────────────────────────────────────────────────╯ \n"
      ]
     },
     "metadata": {},
     "output_type": "display_data"
    },
    {
     "data": {
      "text/plain": [
       "(<CodeFlareClusterStatus.SUSPENDED: 7>, False)"
      ]
     },
     "execution_count": 9,
     "metadata": {},
     "output_type": "execute_result"
    }
   ],
   "source": [
    "cluster.status()"
   ]
  },
  {
   "cell_type": "code",
   "execution_count": 10,
   "id": "106e78fa-8e36-4586-ae0d-3b088ab11dd0",
   "metadata": {
    "tags": []
   },
   "outputs": [
    {
     "name": "stdout",
     "output_type": "stream",
     "text": [
      "Waiting for requested resources to be set up...\n",
      "Requested cluster is up and running!\n",
      "Dashboard is ready!\n"
     ]
    }
   ],
   "source": [
    "cluster.wait_ready()"
   ]
  },
  {
   "cell_type": "code",
   "execution_count": 11,
   "id": "0b9114b5-9c0f-496b-bb82-9b5f1ce1b6dc",
   "metadata": {
    "tags": []
   },
   "outputs": [
    {
     "data": {
      "text/html": [
       "<pre style=\"white-space:pre;overflow-x:auto;line-height:normal;font-family:Menlo,'DejaVu Sans Mono',consolas,'Courier New',monospace\"><span style=\"font-style: italic\">                  </span><span style=\"font-weight: bold; font-style: italic\"> 🚀 CodeFlare Cluster Details 🚀</span><span style=\"font-style: italic\">                  </span>\n",
       "<span style=\"font-weight: bold\">                                                                    </span>\n",
       " ╭────────────────────────────────────────────────────────────────╮ \n",
       " │   <span style=\"color: #c0c0c0; text-decoration-color: #c0c0c0; background-color: #008000; font-weight: bold\">Name</span>                                                         │ \n",
       " │   <span style=\"font-weight: bold; text-decoration: underline\">ray</span>                                              Active ✅   │ \n",
       " │                                                                │ \n",
       " │   <span style=\"font-weight: bold\">URI:</span> ray://ray-head-svc.llama-serving.svc:10001              │ \n",
       " │                                                                │ \n",
       " │   <a href=\"https://ray-dashboard-ray-llama-serving.apps.sno.sandbox1990.opentlc.com\" target=\"_blank\"><span style=\"color: #000080; text-decoration-color: #000080; text-decoration: underline\">Dashboard🔗</span></a>                                                  │ \n",
       " │                                                                │ \n",
       " │  <span style=\"font-style: italic\">                     Cluster Resources                     </span>   │ \n",
       " │   ╭── Workers ──╮  ╭───────── Worker specs(each) ─────────╮    │ \n",
       " │   │ <span style=\"font-weight: bold\"> # Workers </span> │  │ <span style=\"font-weight: bold\"> Memory      CPU         GPU        </span> │    │ \n",
       " │   │ <span style=\"color: #800080; text-decoration-color: #800080\">           </span> │  │ <span style=\"color: #008080; text-decoration-color: #008080\">            </span><span style=\"color: #800080; text-decoration-color: #800080\">                        </span> │    │ \n",
       " │   │ <span style=\"color: #800080; text-decoration-color: #800080\"> 2         </span> │  │ <span style=\"color: #008080; text-decoration-color: #008080\"> 2G~2G      </span><span style=\"color: #800080; text-decoration-color: #800080\"> 1           0          </span> │    │ \n",
       " │   │ <span style=\"color: #800080; text-decoration-color: #800080\">           </span> │  │ <span style=\"color: #008080; text-decoration-color: #008080\">            </span><span style=\"color: #800080; text-decoration-color: #800080\">                        </span> │    │ \n",
       " │   ╰─────────────╯  ╰──────────────────────────────────────╯    │ \n",
       " ╰────────────────────────────────────────────────────────────────╯ \n",
       "</pre>\n"
      ],
      "text/plain": [
       "\u001b[3m                  \u001b[0m\u001b[1;3m 🚀 CodeFlare Cluster Details 🚀\u001b[0m\u001b[3m                  \u001b[0m\n",
       "\u001b[1m \u001b[0m\u001b[1m                                                                  \u001b[0m\u001b[1m \u001b[0m\n",
       " ╭────────────────────────────────────────────────────────────────╮ \n",
       " │   \u001b[1;37;42mName\u001b[0m                                                         │ \n",
       " │   \u001b[1;4mray\u001b[0m                                              Active ✅   │ \n",
       " │                                                                │ \n",
       " │   \u001b[1mURI:\u001b[0m ray://ray-head-svc.llama-serving.svc:10001              │ \n",
       " │                                                                │ \n",
       " │   \u001b]8;id=842232;https://ray-dashboard-ray-llama-serving.apps.sno.sandbox1990.opentlc.com\u001b\\\u001b[4;34mDashboard🔗\u001b[0m\u001b]8;;\u001b\\                                                  │ \n",
       " │                                                                │ \n",
       " │  \u001b[3m                     Cluster Resources                     \u001b[0m   │ \n",
       " │   ╭── Workers ──╮  ╭───────── Worker specs(each) ─────────╮    │ \n",
       " │   │ \u001b[1m \u001b[0m\u001b[1m# Workers\u001b[0m\u001b[1m \u001b[0m │  │ \u001b[1m \u001b[0m\u001b[1mMemory    \u001b[0m\u001b[1m \u001b[0m\u001b[1m \u001b[0m\u001b[1mCPU       \u001b[0m\u001b[1m \u001b[0m\u001b[1m \u001b[0m\u001b[1mGPU       \u001b[0m\u001b[1m \u001b[0m │    │ \n",
       " │   │ \u001b[35m \u001b[0m\u001b[35m         \u001b[0m\u001b[35m \u001b[0m │  │ \u001b[36m \u001b[0m\u001b[36m          \u001b[0m\u001b[36m \u001b[0m\u001b[35m \u001b[0m\u001b[35m          \u001b[0m\u001b[35m \u001b[0m\u001b[35m \u001b[0m\u001b[35m          \u001b[0m\u001b[35m \u001b[0m │    │ \n",
       " │   │ \u001b[35m \u001b[0m\u001b[35m2        \u001b[0m\u001b[35m \u001b[0m │  │ \u001b[36m \u001b[0m\u001b[36m2G~2G     \u001b[0m\u001b[36m \u001b[0m\u001b[35m \u001b[0m\u001b[35m1         \u001b[0m\u001b[35m \u001b[0m\u001b[35m \u001b[0m\u001b[35m0         \u001b[0m\u001b[35m \u001b[0m │    │ \n",
       " │   │ \u001b[35m \u001b[0m\u001b[35m         \u001b[0m\u001b[35m \u001b[0m │  │ \u001b[36m \u001b[0m\u001b[36m          \u001b[0m\u001b[36m \u001b[0m\u001b[35m \u001b[0m\u001b[35m          \u001b[0m\u001b[35m \u001b[0m\u001b[35m \u001b[0m\u001b[35m          \u001b[0m\u001b[35m \u001b[0m │    │ \n",
       " │   ╰─────────────╯  ╰──────────────────────────────────────╯    │ \n",
       " ╰────────────────────────────────────────────────────────────────╯ \n"
      ]
     },
     "metadata": {},
     "output_type": "display_data"
    },
    {
     "data": {
      "text/plain": [
       "RayCluster(name='ray', status=<RayClusterStatus.READY: 'ready'>, head_cpus=1, head_mem='2G', workers=2, worker_mem_min='2G', worker_mem_max='2G', worker_cpu=1, namespace='llama-serving', dashboard='https://ray-dashboard-ray-llama-serving.apps.sno.sandbox1990.opentlc.com', worker_extended_resources={}, head_extended_resources={})"
      ]
     },
     "execution_count": 11,
     "metadata": {},
     "output_type": "execute_result"
    }
   ],
   "source": [
    "cluster.details()"
   ]
  },
  {
   "cell_type": "code",
   "execution_count": 12,
   "id": "82d91647-354c-4f92-b6aa-56f3adc78e00",
   "metadata": {
    "tags": []
   },
   "outputs": [],
   "source": [
    "cluster.down()"
   ]
  },
  {
   "cell_type": "code",
   "execution_count": null,
   "id": "f8854525-d711-433a-a4c0-8d8137c5e701",
   "metadata": {},
   "outputs": [],
   "source": []
  }
 ],
 "metadata": {
  "kernelspec": {
   "display_name": "Python 3.9",
   "language": "python",
   "name": "python3"
  },
  "language_info": {
   "codemirror_mode": {
    "name": "ipython",
    "version": 3
   },
   "file_extension": ".py",
   "mimetype": "text/x-python",
   "name": "python",
   "nbconvert_exporter": "python",
   "pygments_lexer": "ipython3",
   "version": "3.9.18"
  }
 },
 "nbformat": 4,
 "nbformat_minor": 5
}
